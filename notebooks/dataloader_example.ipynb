{
 "cells": [
  {
   "cell_type": "code",
   "execution_count": 4,
   "metadata": {},
   "outputs": [],
   "source": [
    "%load_ext autoreload\n",
    "%autoreload 2"
   ]
  },
  {
   "cell_type": "code",
   "execution_count": 3,
   "metadata": {},
   "outputs": [
    {
     "data": {
      "text/plain": [
       "'/home/member/Documents/Emotion/pl-ibug-facetrack'"
      ]
     },
     "execution_count": 3,
     "metadata": {},
     "output_type": "execute_result"
    }
   ],
   "source": [
    "import os\n",
    "\n",
    "os.chdir('..')\n",
    "os.getcwd()"
   ]
  },
  {
   "cell_type": "code",
   "execution_count": 2,
   "metadata": {},
   "outputs": [],
   "source": [
    "import torch\n",
    "from torch.utils.data import Dataset, ConcatDataset, DataLoader\n",
    "from torch.utils.data.sampler import BatchSampler, SequentialSampler, Sampler\n",
    "from functools import partial\n",
    "\n",
    "class MyBatchSampler(BatchSampler):\n",
    "    def __init__(self, sampler, batch_size: int, drop_last: bool, chunk_lens: list) -> None:\n",
    "        super().__init__(sampler, batch_size, drop_last)\n",
    "        self.chunk_lens = chunk_lens\n",
    "        \n",
    "    def __iter__(self):        \n",
    "        offset = 0\n",
    "        for chunk_len in chunk_lens:\n",
    "            batch = []\n",
    "            for idx in range(offset, offset+chunk_len):#self.sampler: # range(37)\n",
    "                batch.append(idx)\n",
    "                if len(batch) == self.batch_size:\n",
    "                    yield batch\n",
    "                    batch = []\n",
    "            if len(batch) > 0 and not self.drop_last:\n",
    "                yield batch\n",
    "            offset += chunk_len\n",
    "\n",
    "    def __len__(self):\n",
    "        if self.drop_last:\n",
    "            l = sum([chunk_len//self.batch_size for chunk_len in chunk_lens])\n",
    "            return l  # type: ignore\n",
    "        else:\n",
    "            return sum([(chunk_len + self.batch_size - 1)//self.batch_size for chunk_len in chunk_lens]) # type: ignore"
   ]
  },
  {
   "cell_type": "code",
   "execution_count": 79,
   "metadata": {},
   "outputs": [
    {
     "name": "stdout",
     "output_type": "stream",
     "text": [
      "Found n=143 paths\n"
     ]
    }
   ],
   "source": [
    "from pathlib import Path\n",
    "\n",
    "root = Path(\"./data/\")\n",
    "\n",
    "paths = [\n",
    "    str(p)\n",
    "    for p in list(root.glob(\"300VW/*/\")) + list(root.glob(\"CONFER/**/stitched\"))\n",
    "]\n",
    "\n",
    "print(f\"Found n={len(paths)} paths\")"
   ]
  },
  {
   "cell_type": "code",
   "execution_count": 97,
   "metadata": {},
   "outputs": [],
   "source": [
    "from dataset import FaceTrackDatasetFolder\n",
    "\n",
    "datasets = [FaceTrackDatasetFolder(path) for path in paths]\n",
    "\n",
    "chunk_lens = list(map(len, datasets))\n",
    "dataset_combine = ConcatDataset(datasets)"
   ]
  },
  {
   "cell_type": "code",
   "execution_count": 102,
   "metadata": {},
   "outputs": [],
   "source": [
    "my_batch_sampler = MyBatchSampler(batch_size=256, sampler=SequentialSampler(dataset_combine), chunk_lens=chunk_lens, drop_last=False)\n",
    "dataloader = DataLoader(dataset_combine, batch_sampler=my_batch_sampler)"
   ]
  },
  {
   "cell_type": "code",
   "execution_count": null,
   "metadata": {},
   "outputs": [],
   "source": []
  }
 ],
 "metadata": {
  "kernelspec": {
   "display_name": "Python 3",
   "language": "python",
   "name": "python3"
  },
  "language_info": {
   "codemirror_mode": {
    "name": "ipython",
    "version": 3
   },
   "file_extension": ".py",
   "mimetype": "text/x-python",
   "name": "python",
   "nbconvert_exporter": "python",
   "pygments_lexer": "ipython3",
   "version": "3.8.1"
  }
 },
 "nbformat": 4,
 "nbformat_minor": 4
}
